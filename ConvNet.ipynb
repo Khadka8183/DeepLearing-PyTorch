{
 "cells": [
  {
   "cell_type": "code",
   "execution_count": 1,
   "id": "730d56e5",
   "metadata": {},
   "outputs": [],
   "source": [
    "import torch \n",
    "import numpy as np \n",
    "import torch.nn as nn\n",
    "from tqdm import tqdm  \n",
    "import matplotlib.pyplot as plt \n",
    "import torch.nn.functional as F "
   ]
  },
  {
   "cell_type": "code",
   "execution_count": 2,
   "id": "d2abe17a",
   "metadata": {},
   "outputs": [],
   "source": [
    "# data from torchvision\n",
    "\n",
    "from torchvision import datasets, transforms\n",
    "\n",
    "train = datasets.MNIST('data/', train = True,  download=False, transform = transforms.Compose([transforms.ToTensor()]))\n",
    "test  = datasets.MNIST('data/', train = False, download=False, transform = transforms.Compose([transforms.ToTensor()]))"
   ]
  },
  {
   "cell_type": "code",
   "execution_count": 3,
   "id": "40d5a220",
   "metadata": {},
   "outputs": [
    {
     "data": {
      "text/plain": [
       "torch.utils.data.dataloader.DataLoader"
      ]
     },
     "execution_count": 3,
     "metadata": {},
     "output_type": "execute_result"
    }
   ],
   "source": [
    "# batches of data\n",
    "\n",
    "train_batches = torch.utils.data.DataLoader(train, batch_size=32, shuffle=True)\n",
    "test_batches  = torch.utils.data.DataLoader(test,  batch_size=32, shuffle=True)\n",
    "\n",
    "type(train_batches)"
   ]
  },
  {
   "cell_type": "code",
   "execution_count": 4,
   "id": "42a07fd5",
   "metadata": {},
   "outputs": [
    {
     "name": "stdout",
     "output_type": "stream",
     "text": [
      "tensor([[[[0., 0., 0.,  ..., 0., 0., 0.],\n",
      "          [0., 0., 0.,  ..., 0., 0., 0.],\n",
      "          [0., 0., 0.,  ..., 0., 0., 0.],\n",
      "          ...,\n",
      "          [0., 0., 0.,  ..., 0., 0., 0.],\n",
      "          [0., 0., 0.,  ..., 0., 0., 0.],\n",
      "          [0., 0., 0.,  ..., 0., 0., 0.]]],\n",
      "\n",
      "\n",
      "        [[[0., 0., 0.,  ..., 0., 0., 0.],\n",
      "          [0., 0., 0.,  ..., 0., 0., 0.],\n",
      "          [0., 0., 0.,  ..., 0., 0., 0.],\n",
      "          ...,\n",
      "          [0., 0., 0.,  ..., 0., 0., 0.],\n",
      "          [0., 0., 0.,  ..., 0., 0., 0.],\n",
      "          [0., 0., 0.,  ..., 0., 0., 0.]]],\n",
      "\n",
      "\n",
      "        [[[0., 0., 0.,  ..., 0., 0., 0.],\n",
      "          [0., 0., 0.,  ..., 0., 0., 0.],\n",
      "          [0., 0., 0.,  ..., 0., 0., 0.],\n",
      "          ...,\n",
      "          [0., 0., 0.,  ..., 0., 0., 0.],\n",
      "          [0., 0., 0.,  ..., 0., 0., 0.],\n",
      "          [0., 0., 0.,  ..., 0., 0., 0.]]],\n",
      "\n",
      "\n",
      "        ...,\n",
      "\n",
      "\n",
      "        [[[0., 0., 0.,  ..., 0., 0., 0.],\n",
      "          [0., 0., 0.,  ..., 0., 0., 0.],\n",
      "          [0., 0., 0.,  ..., 0., 0., 0.],\n",
      "          ...,\n",
      "          [0., 0., 0.,  ..., 0., 0., 0.],\n",
      "          [0., 0., 0.,  ..., 0., 0., 0.],\n",
      "          [0., 0., 0.,  ..., 0., 0., 0.]]],\n",
      "\n",
      "\n",
      "        [[[0., 0., 0.,  ..., 0., 0., 0.],\n",
      "          [0., 0., 0.,  ..., 0., 0., 0.],\n",
      "          [0., 0., 0.,  ..., 0., 0., 0.],\n",
      "          ...,\n",
      "          [0., 0., 0.,  ..., 0., 0., 0.],\n",
      "          [0., 0., 0.,  ..., 0., 0., 0.],\n",
      "          [0., 0., 0.,  ..., 0., 0., 0.]]],\n",
      "\n",
      "\n",
      "        [[[0., 0., 0.,  ..., 0., 0., 0.],\n",
      "          [0., 0., 0.,  ..., 0., 0., 0.],\n",
      "          [0., 0., 0.,  ..., 0., 0., 0.],\n",
      "          ...,\n",
      "          [0., 0., 0.,  ..., 0., 0., 0.],\n",
      "          [0., 0., 0.,  ..., 0., 0., 0.],\n",
      "          [0., 0., 0.,  ..., 0., 0., 0.]]]]) tensor([3, 6, 5, 4, 3, 1, 0, 9, 4, 4, 0, 3, 1, 4, 2, 1, 9, 1, 6, 6, 3, 2, 2, 2,\n",
      "        6, 1, 0, 2, 5, 4, 9, 5])\n"
     ]
    }
   ],
   "source": [
    "# data\n",
    "for data in train_batches:\n",
    "    x,y = data \n",
    "    print(x,y)\n",
    "    break "
   ]
  },
  {
   "cell_type": "code",
   "execution_count": 5,
   "id": "a1be8789",
   "metadata": {},
   "outputs": [
    {
     "data": {
      "text/plain": [
       "torch.Size([32, 1, 28, 28])"
      ]
     },
     "execution_count": 5,
     "metadata": {},
     "output_type": "execute_result"
    }
   ],
   "source": [
    "# visualize data \n",
    "x.shape "
   ]
  },
  {
   "cell_type": "code",
   "execution_count": 6,
   "id": "65186b9b",
   "metadata": {},
   "outputs": [
    {
     "data": {
      "image/png": "[encoded data removed]",
      "text/plain": [
       "<Figure size 1000x500 with 10 Axes>"
      ]
     },
     "metadata": {},
     "output_type": "display_data"
    }
   ],
   "source": [
    "#Generate random image from first batch of images\n",
    "\n",
    "plt.figure(figsize=(10,5))\n",
    "j = 0\n",
    "for i in range(10):\n",
    "    j = j+1\n",
    "    plt.subplot(2,5,j)\n",
    "    random_number = torch.randint(1,32, (1,))\n",
    "    plt.imshow(x[random_number.item()].view(28,28,1))\n",
    "    plt.xlabel(y[random_number.item()].item())\n",
    "    plt.xticks([])\n",
    "    plt.yticks([])\n",
    "plt.show()"
   ]
  },
  {
   "cell_type": "code",
   "execution_count": 7,
   "id": "63850c8d",
   "metadata": {},
   "outputs": [],
   "source": [
    "class ConvNet(nn.Module):\n",
    "    def __init__(self):\n",
    "        super(ConvNet, self).__init__()\n",
    "        \n",
    "        # calculate same padding:\n",
    "        # (w - k + 2*p)/s + 1 = o\n",
    "        # => p = (s(o-1) - w + k)/2\n",
    "        \n",
    "        # 28 * 28 *1  = 28 *28*8\n",
    "        self.conv1 = nn.Conv2d(\n",
    "                               in_channels= 1,\n",
    "                               out_channels=8,  \n",
    "                               kernel_size=(3,3), \n",
    "                               stride = (1,1), \n",
    "                               padding = 1)                  # p = (1(28-1) - 28 + 3) / 2 = 1\n",
    "        \n",
    "        # 28x28x8 => 14x14x8\n",
    "        self.pool_1 = torch.nn.MaxPool2d(\n",
    "                                         kernel_size=(2, 2),\n",
    "                                         stride=(2, 2),\n",
    "                                         padding=0)          # o = (28 - 2 + 0)/2 + 1 = 14\n",
    "        # 14 * 14 *8  = 14 *14*16\n",
    "        self.conv2 = nn.Conv2d(\n",
    "                               in_channels= 8,\n",
    "                               out_channels=16,  \n",
    "                               kernel_size=(3,3), \n",
    "                               stride = (1,1), \n",
    "                               padding = 1)                   # p = (1(14-1) - 14 + 3) / 2 = 1\n",
    "        \n",
    "        # 14x14x16 => 7x7x16\n",
    "        self.pool_2 = torch.nn.MaxPool2d(\n",
    "                                         kernel_size=(2, 2),\n",
    "                                         stride=(2, 2),\n",
    "                                         padding=0)           # o = (14 - 2 + 0)/2 + 1 = 7\n",
    "    \n",
    "        self.flat = nn.Flatten()\n",
    "      \n",
    "        self.fc1 = nn.Linear(7*7*16, 128)\n",
    "        self.fc2 = nn.Linear(128, 10)\n",
    "        \n",
    "        \n",
    "        \n",
    "    def forward(self, x):\n",
    "            \n",
    "        x = F.relu(self.conv1(x)) \n",
    "        x = self.pool_1(x)\n",
    "            \n",
    "        x = F.relu(self.conv2(x))\n",
    "        x = self.pool_1(x)\n",
    "            \n",
    "        x = self.flat(x)\n",
    "            \n",
    "        x = F.relu(self.fc1(x))\n",
    "        x = F.softmax(self.fc2(x), dim =1)\n",
    "            \n",
    "        return x \n",
    "         "
   ]
  },
  {
   "cell_type": "code",
   "execution_count": 8,
   "id": "993c6bc6",
   "metadata": {},
   "outputs": [
    {
     "name": "stdout",
     "output_type": "stream",
     "text": [
      "<bound method Module.parameters of ConvNet(\n",
      "  (conv1): Conv2d(1, 8, kernel_size=(3, 3), stride=(1, 1), padding=(1, 1))\n",
      "  (pool_1): MaxPool2d(kernel_size=(2, 2), stride=(2, 2), padding=0, dilation=1, ceil_mode=False)\n",
      "  (conv2): Conv2d(8, 16, kernel_size=(3, 3), stride=(1, 1), padding=(1, 1))\n",
      "  (pool_2): MaxPool2d(kernel_size=(2, 2), stride=(2, 2), padding=0, dilation=1, ceil_mode=False)\n",
      "  (flat): Flatten(start_dim=1, end_dim=-1)\n",
      "  (fc1): Linear(in_features=784, out_features=128, bias=True)\n",
      "  (fc2): Linear(in_features=128, out_features=10, bias=True)\n",
      ")>\n"
     ]
    }
   ],
   "source": [
    "# testing first batches of images\n",
    "\n",
    "model_test = ConvNet()\n",
    "print(model_test.parameters)"
   ]
  },
  {
   "cell_type": "code",
   "execution_count": 9,
   "id": "537e5cc8",
   "metadata": {},
   "outputs": [
    {
     "data": {
      "text/plain": [
       "torch.Size([32, 1, 28, 28])"
      ]
     },
     "execution_count": 9,
     "metadata": {},
     "output_type": "execute_result"
    }
   ],
   "source": [
    "x.shape"
   ]
  },
  {
   "cell_type": "code",
   "execution_count": 10,
   "id": "1910a06a",
   "metadata": {},
   "outputs": [
    {
     "data": {
      "text/plain": [
       "tensor([[0.1081, 0.1006, 0.0958, 0.1059, 0.1099, 0.0933, 0.0958, 0.0991, 0.0899,\n",
       "         0.1016],\n",
       "        [0.1081, 0.0973, 0.0990, 0.1062, 0.1066, 0.0956, 0.0982, 0.0996, 0.0876,\n",
       "         0.1018],\n",
       "        [0.1083, 0.1005, 0.0948, 0.1063, 0.1115, 0.0933, 0.0955, 0.0999, 0.0898,\n",
       "         0.1002],\n",
       "        [0.1067, 0.0983, 0.0975, 0.1057, 0.1069, 0.0952, 0.0974, 0.0998, 0.0885,\n",
       "         0.1040],\n",
       "        [0.1080, 0.1001, 0.0948, 0.1070, 0.1106, 0.0929, 0.0962, 0.0992, 0.0896,\n",
       "         0.1015],\n",
       "        [0.1090, 0.0980, 0.0976, 0.1062, 0.1070, 0.0939, 0.0971, 0.1004, 0.0905,\n",
       "         0.1003],\n",
       "        [0.1065, 0.0991, 0.0971, 0.1049, 0.1080, 0.0958, 0.0979, 0.1001, 0.0883,\n",
       "         0.1024],\n",
       "        [0.1073, 0.0991, 0.0953, 0.1061, 0.1103, 0.0929, 0.0980, 0.0995, 0.0914,\n",
       "         0.1002],\n",
       "        [0.1093, 0.0973, 0.0976, 0.1056, 0.1067, 0.0959, 0.0988, 0.0990, 0.0881,\n",
       "         0.1018],\n",
       "        [0.1083, 0.0973, 0.0975, 0.1055, 0.1079, 0.0950, 0.0977, 0.1002, 0.0888,\n",
       "         0.1019],\n",
       "        [0.1075, 0.0983, 0.0954, 0.1077, 0.1083, 0.0937, 0.0988, 0.0996, 0.0893,\n",
       "         0.1014],\n",
       "        [0.1084, 0.0992, 0.0964, 0.1062, 0.1093, 0.0929, 0.0969, 0.1004, 0.0887,\n",
       "         0.1016],\n",
       "        [0.1080, 0.0977, 0.0970, 0.1061, 0.1073, 0.0941, 0.0970, 0.1007, 0.0904,\n",
       "         0.1016],\n",
       "        [0.1082, 0.0960, 0.0980, 0.1054, 0.1076, 0.0949, 0.0989, 0.1002, 0.0885,\n",
       "         0.1024],\n",
       "        [0.1082, 0.1006, 0.0971, 0.1052, 0.1075, 0.0921, 0.0976, 0.1011, 0.0898,\n",
       "         0.1009],\n",
       "        [0.1087, 0.0972, 0.0970, 0.1056, 0.1072, 0.0942, 0.0974, 0.1008, 0.0903,\n",
       "         0.1015],\n",
       "        [0.1082, 0.0977, 0.0969, 0.1081, 0.1101, 0.0940, 0.0973, 0.0991, 0.0880,\n",
       "         0.1006],\n",
       "        [0.1072, 0.0982, 0.0968, 0.1061, 0.1076, 0.0931, 0.0977, 0.1006, 0.0910,\n",
       "         0.1017],\n",
       "        [0.1088, 0.0980, 0.0968, 0.1070, 0.1084, 0.0949, 0.0979, 0.0995, 0.0879,\n",
       "         0.1008],\n",
       "        [0.1092, 0.0973, 0.0978, 0.1066, 0.1072, 0.0955, 0.0976, 0.0998, 0.0890,\n",
       "         0.1001],\n",
       "        [0.1081, 0.0994, 0.0955, 0.1062, 0.1096, 0.0923, 0.0970, 0.1003, 0.0903,\n",
       "         0.1013],\n",
       "        [0.1080, 0.0992, 0.0953, 0.1060, 0.1098, 0.0923, 0.0967, 0.1010, 0.0913,\n",
       "         0.1003],\n",
       "        [0.1097, 0.0981, 0.0965, 0.1058, 0.1080, 0.0929, 0.0970, 0.1017, 0.0903,\n",
       "         0.1000],\n",
       "        [0.1074, 0.0993, 0.0953, 0.1055, 0.1065, 0.0938, 0.1005, 0.0998, 0.0905,\n",
       "         0.1013],\n",
       "        [0.1094, 0.0969, 0.0970, 0.1067, 0.1070, 0.0954, 0.0983, 0.1004, 0.0896,\n",
       "         0.0994],\n",
       "        [0.1076, 0.0976, 0.0969, 0.1063, 0.1068, 0.0940, 0.0973, 0.1010, 0.0907,\n",
       "         0.1018],\n",
       "        [0.1083, 0.0991, 0.0973, 0.1050, 0.1081, 0.0960, 0.0960, 0.1007, 0.0881,\n",
       "         0.1015],\n",
       "        [0.1070, 0.0998, 0.0958, 0.1062, 0.1112, 0.0937, 0.0966, 0.0994, 0.0898,\n",
       "         0.1005],\n",
       "        [0.1071, 0.0992, 0.0964, 0.1067, 0.1083, 0.0940, 0.0961, 0.0998, 0.0911,\n",
       "         0.1011],\n",
       "        [0.1078, 0.0971, 0.0970, 0.1070, 0.1070, 0.0947, 0.0971, 0.1004, 0.0891,\n",
       "         0.1028],\n",
       "        [0.1080, 0.0967, 0.0965, 0.1077, 0.1084, 0.0930, 0.0982, 0.1005, 0.0908,\n",
       "         0.1002],\n",
       "        [0.1081, 0.0981, 0.0975, 0.1064, 0.1078, 0.0937, 0.0962, 0.1011, 0.0912,\n",
       "         0.0999]], grad_fn=<SoftmaxBackward0>)"
      ]
     },
     "execution_count": 10,
     "metadata": {},
     "output_type": "execute_result"
    }
   ],
   "source": [
    "model_test(x)"
   ]
  },
  {
   "cell_type": "code",
   "execution_count": 11,
   "id": "aad785db",
   "metadata": {},
   "outputs": [],
   "source": [
    "# initilize model\n",
    "model = ConvNet()"
   ]
  },
  {
   "cell_type": "code",
   "execution_count": 12,
   "id": "57341fca",
   "metadata": {},
   "outputs": [],
   "source": [
    "# Training loop\n",
    "\n",
    "def train(train_loader, lr = 0.01, epochs = 5):\n",
    "    \n",
    "    # optimizer \n",
    "    optimizer = torch.optim.SGD(model.parameters(), lr = lr)\n",
    "    \n",
    "    for epoch in range(epochs):\n",
    "        running_loss = 0 \n",
    "        for data in tqdm(train_loader):\n",
    "            x,y = data\n",
    "            model.zero_grad()\n",
    "            pred = model(x)\n",
    "            loss = F.cross_entropy(pred, y)\n",
    "            loss.backward()\n",
    "            optimizer.step()\n",
    "            running_loss += loss.item()\n",
    "        print(f'Epoch: {epoch+1},| loss: {running_loss/len(train_loader)}')       "
   ]
  },
  {
   "cell_type": "code",
   "execution_count": 13,
   "id": "b7f21efe",
   "metadata": {},
   "outputs": [
    {
     "name": "stderr",
     "output_type": "stream",
     "text": [
      "100%|█████████████████████████████████████████████████████████████████████████████| 1875/1875 [00:15<00:00, 121.76it/s]\n"
     ]
    },
    {
     "name": "stdout",
     "output_type": "stream",
     "text": [
      "Epoch: 1,| loss: 1.8079773867289226\n"
     ]
    },
    {
     "name": "stderr",
     "output_type": "stream",
     "text": [
      "100%|█████████████████████████████████████████████████████████████████████████████| 1875/1875 [00:15<00:00, 117.61it/s]\n"
     ]
    },
    {
     "name": "stdout",
     "output_type": "stream",
     "text": [
      "Epoch: 2,| loss: 1.5442791637420654\n"
     ]
    },
    {
     "name": "stderr",
     "output_type": "stream",
     "text": [
      "100%|██████████████████████████████████████████████████████████████████████████████| 1875/1875 [00:18<00:00, 99.56it/s]\n"
     ]
    },
    {
     "name": "stdout",
     "output_type": "stream",
     "text": [
      "Epoch: 3,| loss: 1.4973558395385742\n"
     ]
    },
    {
     "name": "stderr",
     "output_type": "stream",
     "text": [
      "100%|█████████████████████████████████████████████████████████████████████████████| 1875/1875 [00:18<00:00, 101.68it/s]\n"
     ]
    },
    {
     "name": "stdout",
     "output_type": "stream",
     "text": [
      "Epoch: 4,| loss: 1.4894321338017782\n"
     ]
    },
    {
     "name": "stderr",
     "output_type": "stream",
     "text": [
      "100%|██████████████████████████████████████████████████████████████████████████████| 1875/1875 [00:19<00:00, 96.04it/s]"
     ]
    },
    {
     "name": "stdout",
     "output_type": "stream",
     "text": [
      "Epoch: 5,| loss: 1.4841627597173055\n"
     ]
    },
    {
     "name": "stderr",
     "output_type": "stream",
     "text": [
      "\n"
     ]
    }
   ],
   "source": [
    "train(train_batches, lr = 0.1, epochs =5)"
   ]
  },
  {
   "cell_type": "code",
   "execution_count": 14,
   "id": "c7e2d46f",
   "metadata": {},
   "outputs": [
    {
     "name": "stdout",
     "output_type": "stream",
     "text": [
      "Accuracy : 0.979\n"
     ]
    }
   ],
   "source": [
    "correct = 0\n",
    "total = 0\n",
    "\n",
    "with torch.no_grad():\n",
    "    for data in test_batches:\n",
    "        x,y = data \n",
    "        pred = model(x)\n",
    "        for idx, data in enumerate(pred):\n",
    "            if torch.argmax(data)==y[idx]:\n",
    "                correct +=1\n",
    "            total +=1\n",
    "print(f'Accuracy : {correct/total:.3f}')   "
   ]
  },
  {
   "cell_type": "code",
   "execution_count": null,
   "id": "cb3f8528",
   "metadata": {},
   "outputs": [],
   "source": []
  }
 ],
 "metadata": {
  "kernelspec": {
   "display_name": "Python 3 (ipykernel)",
   "language": "python",
   "name": "python3"
  },
  "language_info": {
   "codemirror_mode": {
    "name": "ipython",
    "version": 3
   },
   "file_extension": ".py",
   "mimetype": "text/x-python",
   "name": "python",
   "nbconvert_exporter": "python",
   "pygments_lexer": "ipython3",
   "version": "3.10.9"
  },
  "toc": {
   "base_numbering": 1,
   "nav_menu": {},
   "number_sections": true,
   "sideBar": true,
   "skip_h1_title": false,
   "title_cell": "Table of Contents",
   "title_sidebar": "Contents",
   "toc_cell": false,
   "toc_position": {},
   "toc_section_display": true,
   "toc_window_display": false
  }
 },
 "nbformat": 4,
 "nbformat_minor": 5
}
