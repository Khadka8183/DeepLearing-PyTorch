{
 "cells": [
  {
   "cell_type": "markdown",
   "id": "2d4eca55",
   "metadata": {},
   "source": [
    "# Tensor, size, dtype, ndim"
   ]
  },
  {
   "cell_type": "code",
   "execution_count": 1,
   "id": "94f9bb38",
   "metadata": {},
   "outputs": [
    {
     "data": {
      "text/plain": [
       "tensor([0, 1, 2, 3, 4, 5])"
      ]
     },
     "execution_count": 1,
     "metadata": {},
     "output_type": "execute_result"
    }
   ],
   "source": [
    "import torch \n",
    "\n",
    "a = torch.tensor([0,1,2,3,4,5])\n",
    "a "
   ]
  },
  {
   "cell_type": "code",
   "execution_count": 2,
   "id": "3b442749",
   "metadata": {},
   "outputs": [
    {
     "data": {
      "text/plain": [
       "torch.int64"
      ]
     },
     "execution_count": 2,
     "metadata": {},
     "output_type": "execute_result"
    }
   ],
   "source": [
    "# Data attribute\n",
    "a.dtype "
   ]
  },
  {
   "cell_type": "code",
   "execution_count": 3,
   "id": "f0a8451e",
   "metadata": {},
   "outputs": [
    {
     "data": {
      "text/plain": [
       "'torch.LongTensor'"
      ]
     },
     "execution_count": 3,
     "metadata": {},
     "output_type": "execute_result"
    }
   ],
   "source": [
    "# Method type\n",
    "a.type()"
   ]
  },
  {
   "cell_type": "code",
   "execution_count": 4,
   "id": "1e12f625",
   "metadata": {},
   "outputs": [
    {
     "data": {
      "text/plain": [
       "torch.Size([6])"
      ]
     },
     "execution_count": 4,
     "metadata": {},
     "output_type": "execute_result"
    }
   ],
   "source": [
    "a.size()"
   ]
  },
  {
   "cell_type": "code",
   "execution_count": 5,
   "id": "69a5bb43",
   "metadata": {},
   "outputs": [
    {
     "data": {
      "text/plain": [
       "1"
      ]
     },
     "execution_count": 5,
     "metadata": {},
     "output_type": "execute_result"
    }
   ],
   "source": [
    "a.ndim "
   ]
  },
  {
   "cell_type": "code",
   "execution_count": 6,
   "id": "6ceb5b8c",
   "metadata": {},
   "outputs": [
    {
     "data": {
      "text/plain": [
       "1"
      ]
     },
     "execution_count": 6,
     "metadata": {},
     "output_type": "execute_result"
    }
   ],
   "source": [
    "a.ndimension()"
   ]
  },
  {
   "cell_type": "code",
   "execution_count": 7,
   "id": "f8739af0",
   "metadata": {},
   "outputs": [
    {
     "data": {
      "text/plain": [
       "tensor([0., 1., 2., 3., 4., 5.], dtype=torch.float16)"
      ]
     },
     "execution_count": 7,
     "metadata": {},
     "output_type": "execute_result"
    }
   ],
   "source": [
    "b = torch.tensor([0,1,2,3,4,5], dtype = torch.float16)\n",
    "b "
   ]
  },
  {
   "cell_type": "code",
   "execution_count": 8,
   "id": "6d35819f",
   "metadata": {},
   "outputs": [
    {
     "data": {
      "text/plain": [
       "torch.float16"
      ]
     },
     "execution_count": 8,
     "metadata": {},
     "output_type": "execute_result"
    }
   ],
   "source": [
    "b.dtype"
   ]
  },
  {
   "cell_type": "code",
   "execution_count": 9,
   "id": "5b24b577",
   "metadata": {},
   "outputs": [
    {
     "data": {
      "text/plain": [
       "'torch.HalfTensor'"
      ]
     },
     "execution_count": 9,
     "metadata": {},
     "output_type": "execute_result"
    }
   ],
   "source": [
    "b.type()"
   ]
  },
  {
   "cell_type": "code",
   "execution_count": 10,
   "id": "3cb06a95",
   "metadata": {},
   "outputs": [
    {
     "data": {
      "text/plain": [
       "torch.Size([6])"
      ]
     },
     "execution_count": 10,
     "metadata": {},
     "output_type": "execute_result"
    }
   ],
   "source": [
    "b.size()"
   ]
  },
  {
   "cell_type": "code",
   "execution_count": 11,
   "id": "3c5258e9",
   "metadata": {},
   "outputs": [
    {
     "data": {
      "text/plain": [
       "1"
      ]
     },
     "execution_count": 11,
     "metadata": {},
     "output_type": "execute_result"
    }
   ],
   "source": [
    "b.ndim"
   ]
  },
  {
   "cell_type": "code",
   "execution_count": 12,
   "id": "53e8b317",
   "metadata": {},
   "outputs": [
    {
     "data": {
      "text/plain": [
       "tensor([[0.],\n",
       "        [1.],\n",
       "        [2.],\n",
       "        [3.],\n",
       "        [4.],\n",
       "        [5.]], dtype=torch.float16)"
      ]
     },
     "execution_count": 12,
     "metadata": {},
     "output_type": "execute_result"
    }
   ],
   "source": [
    "# reshaping the tensor \n",
    "b_col = b.view(6,1) \n",
    "b_col "
   ]
  },
  {
   "cell_type": "code",
   "execution_count": 13,
   "id": "df955c81",
   "metadata": {},
   "outputs": [
    {
     "data": {
      "text/plain": [
       "torch.Size([6, 1])"
      ]
     },
     "execution_count": 13,
     "metadata": {},
     "output_type": "execute_result"
    }
   ],
   "source": [
    "b_col.size()"
   ]
  },
  {
   "cell_type": "code",
   "execution_count": 14,
   "id": "4ca9b68e",
   "metadata": {},
   "outputs": [
    {
     "data": {
      "text/plain": [
       "2"
      ]
     },
     "execution_count": 14,
     "metadata": {},
     "output_type": "execute_result"
    }
   ],
   "source": [
    "b_col.ndim"
   ]
  },
  {
   "cell_type": "code",
   "execution_count": 15,
   "id": "c79c28ce",
   "metadata": {},
   "outputs": [
    {
     "data": {
      "text/plain": [
       "2"
      ]
     },
     "execution_count": 15,
     "metadata": {},
     "output_type": "execute_result"
    }
   ],
   "source": [
    "# reshaping another way\n",
    "a_col = a.view(-1,1)\n",
    "a_col.ndim "
   ]
  },
  {
   "cell_type": "code",
   "execution_count": 16,
   "id": "dd17e80b",
   "metadata": {},
   "outputs": [
    {
     "data": {
      "text/plain": [
       "torch.Size([6, 1])"
      ]
     },
     "execution_count": 16,
     "metadata": {},
     "output_type": "execute_result"
    }
   ],
   "source": [
    "a_col.size()"
   ]
  },
  {
   "cell_type": "code",
   "execution_count": 17,
   "id": "1edcc8f5",
   "metadata": {},
   "outputs": [
    {
     "data": {
      "text/plain": [
       "array([0, 1, 2, 3, 4, 5])"
      ]
     },
     "execution_count": 17,
     "metadata": {},
     "output_type": "execute_result"
    }
   ],
   "source": [
    "# Numpy to tensor and vice-versa\n",
    "\n",
    "import numpy as np \n",
    "\n",
    "\n",
    "numpy_array = np.array([0,1,2,3,4,5])\n",
    "numpy_array"
   ]
  },
  {
   "cell_type": "code",
   "execution_count": 18,
   "id": "89990141",
   "metadata": {},
   "outputs": [
    {
     "data": {
      "text/plain": [
       "tensor([0, 1, 2, 3, 4, 5], dtype=torch.int32)"
      ]
     },
     "execution_count": 18,
     "metadata": {},
     "output_type": "execute_result"
    }
   ],
   "source": [
    "torch_array = torch.from_numpy(numpy_array)\n",
    "torch_array"
   ]
  },
  {
   "cell_type": "code",
   "execution_count": 19,
   "id": "58f97f84",
   "metadata": {},
   "outputs": [
    {
     "data": {
      "text/plain": [
       "array([0, 1, 2, 3, 4, 5])"
      ]
     },
     "execution_count": 19,
     "metadata": {},
     "output_type": "execute_result"
    }
   ],
   "source": [
    "# Back to numpy\n",
    "numpy_array = torch_array.numpy()\n",
    "numpy_array"
   ]
  },
  {
   "cell_type": "code",
   "execution_count": 20,
   "id": "08515eaa",
   "metadata": {},
   "outputs": [
    {
     "data": {
      "text/plain": [
       "0     0.1\n",
       "1     2.0\n",
       "2     0.3\n",
       "3    10.0\n",
       "dtype: float64"
      ]
     },
     "execution_count": 20,
     "metadata": {},
     "output_type": "execute_result"
    }
   ],
   "source": [
    "# Similarly pandas series can be changed into tensor\n",
    "\n",
    "import pandas as pd \n",
    "\n",
    "pandas_series = pd.Series([0.1,2,0.3,10])\n",
    "pandas_series\n"
   ]
  },
  {
   "cell_type": "code",
   "execution_count": 21,
   "id": "926d75db",
   "metadata": {},
   "outputs": [
    {
     "data": {
      "text/plain": [
       "tensor([ 0.1000,  2.0000,  0.3000, 10.0000], dtype=torch.float64)"
      ]
     },
     "execution_count": 21,
     "metadata": {},
     "output_type": "execute_result"
    }
   ],
   "source": [
    "pandas_to_tensor = torch.from_numpy(pandas_series.values)\n",
    "pandas_to_tensor"
   ]
  },
  {
   "cell_type": "markdown",
   "id": "b2978d4c",
   "metadata": {},
   "source": [
    "# Slicing and Indexing"
   ]
  },
  {
   "cell_type": "code",
   "execution_count": 22,
   "id": "b0e1b311",
   "metadata": {},
   "outputs": [
    {
     "data": {
      "text/plain": [
       "tensor([0., 1., 2., 3., 4., 5.], dtype=torch.float16)"
      ]
     },
     "execution_count": 22,
     "metadata": {},
     "output_type": "execute_result"
    }
   ],
   "source": [
    "b[0:]"
   ]
  },
  {
   "cell_type": "code",
   "execution_count": 23,
   "id": "27e776d4",
   "metadata": {},
   "outputs": [
    {
     "data": {
      "text/plain": [
       "tensor(5., dtype=torch.float16)"
      ]
     },
     "execution_count": 23,
     "metadata": {},
     "output_type": "execute_result"
    }
   ],
   "source": [
    "b[-1]"
   ]
  },
  {
   "cell_type": "code",
   "execution_count": 24,
   "id": "98086941",
   "metadata": {},
   "outputs": [
    {
     "data": {
      "text/plain": [
       "tensor([0., 1., 2., 3.], dtype=torch.float16)"
      ]
     },
     "execution_count": 24,
     "metadata": {},
     "output_type": "execute_result"
    }
   ],
   "source": [
    "b[0:4]"
   ]
  },
  {
   "cell_type": "code",
   "execution_count": 25,
   "id": "46e328fc",
   "metadata": {},
   "outputs": [
    {
     "data": {
      "text/plain": [
       "tensor([23.,  1.,  2.,  3.,  4.,  5.], dtype=torch.float16)"
      ]
     },
     "execution_count": 25,
     "metadata": {},
     "output_type": "execute_result"
    }
   ],
   "source": [
    "b[0] = 23\n",
    "b "
   ]
  },
  {
   "cell_type": "markdown",
   "id": "89185525",
   "metadata": {},
   "source": [
    "# 2D - Tensor"
   ]
  },
  {
   "cell_type": "code",
   "execution_count": 26,
   "id": "03db400c",
   "metadata": {},
   "outputs": [
    {
     "data": {
      "text/plain": [
       "tensor([[1, 2, 3],\n",
       "        [4, 5, 6]])"
      ]
     },
     "execution_count": 26,
     "metadata": {},
     "output_type": "execute_result"
    }
   ],
   "source": [
    "array = torch.tensor([[1,2,3], [4,5,6]])\n",
    "array"
   ]
  },
  {
   "cell_type": "code",
   "execution_count": 27,
   "id": "f182c8b9",
   "metadata": {},
   "outputs": [
    {
     "data": {
      "text/plain": [
       "2"
      ]
     },
     "execution_count": 27,
     "metadata": {},
     "output_type": "execute_result"
    }
   ],
   "source": [
    "array.ndim"
   ]
  },
  {
   "cell_type": "code",
   "execution_count": 28,
   "id": "1e201449",
   "metadata": {},
   "outputs": [
    {
     "data": {
      "text/plain": [
       "torch.Size([2, 3])"
      ]
     },
     "execution_count": 28,
     "metadata": {},
     "output_type": "execute_result"
    }
   ],
   "source": [
    "array.size()"
   ]
  },
  {
   "cell_type": "code",
   "execution_count": 29,
   "id": "3f671f95",
   "metadata": {},
   "outputs": [
    {
     "data": {
      "text/plain": [
       "tensor([1, 2, 3])"
      ]
     },
     "execution_count": 29,
     "metadata": {},
     "output_type": "execute_result"
    }
   ],
   "source": [
    "array[0]  ## first row"
   ]
  },
  {
   "cell_type": "code",
   "execution_count": 30,
   "id": "826a5591",
   "metadata": {},
   "outputs": [
    {
     "data": {
      "text/plain": [
       "tensor([1, 4])"
      ]
     },
     "execution_count": 30,
     "metadata": {},
     "output_type": "execute_result"
    }
   ],
   "source": [
    "array[:,0] ## first column"
   ]
  },
  {
   "cell_type": "code",
   "execution_count": 31,
   "id": "6a58fa55",
   "metadata": {},
   "outputs": [
    {
     "data": {
      "text/plain": [
       "tensor([1, 2, 3, 4, 5, 6])"
      ]
     },
     "execution_count": 31,
     "metadata": {},
     "output_type": "execute_result"
    }
   ],
   "source": [
    "flatt = array.flatten()  #flatten\n",
    "flatt "
   ]
  },
  {
   "cell_type": "code",
   "execution_count": 32,
   "id": "ce32fb17",
   "metadata": {},
   "outputs": [
    {
     "data": {
      "text/plain": [
       "tensor([[1, 2, 3],\n",
       "        [4, 5, 6]])"
      ]
     },
     "execution_count": 32,
     "metadata": {},
     "output_type": "execute_result"
    }
   ],
   "source": [
    "reshaped_array = torch.reshape(flatt, (2,3))   # reshape\n",
    "reshaped_array"
   ]
  },
  {
   "cell_type": "code",
   "execution_count": 33,
   "id": "83016e8f",
   "metadata": {},
   "outputs": [
    {
     "data": {
      "text/plain": [
       "tensor([[0.8267, 0.7941, 0.9822],\n",
       "        [0.7396, 0.4081, 0.0278],\n",
       "        [0.5800, 0.7801, 0.9452]], dtype=torch.float64)"
      ]
     },
     "execution_count": 33,
     "metadata": {},
     "output_type": "execute_result"
    }
   ],
   "source": [
    "random_matrix = np.random.rand(3,3)    # random matrix\n",
    "random_matrix = torch.from_numpy(random_matrix)\n",
    "random_matrix"
   ]
  },
  {
   "cell_type": "code",
   "execution_count": 34,
   "id": "f424ccd6",
   "metadata": {},
   "outputs": [
    {
     "data": {
      "text/plain": [
       "tensor([[30, 79, 52],\n",
       "        [62, 76, 71],\n",
       "        [46, 40, 79]], dtype=torch.int32)"
      ]
     },
     "execution_count": 34,
     "metadata": {},
     "output_type": "execute_result"
    }
   ],
   "source": [
    "random_matrix = np.random.randint(1,100, size = (3,3))    # random integer matrix\n",
    "random_matrix = torch.from_numpy(random_matrix)\n",
    "random_matrix"
   ]
  },
  {
   "cell_type": "markdown",
   "id": "47711e40",
   "metadata": {},
   "source": [
    "# Derivatives in pytorch"
   ]
  },
  {
   "cell_type": "code",
   "execution_count": 35,
   "id": "f30dbeec",
   "metadata": {},
   "outputs": [
    {
     "data": {
      "text/plain": [
       "tensor(4.)"
      ]
     },
     "execution_count": 35,
     "metadata": {},
     "output_type": "execute_result"
    }
   ],
   "source": [
    "# consider quadratic function f(x) = x^2, the derivatic of the function is f'(x) = 2*x\n",
    "\n",
    "x = torch.tensor(2.0, requires_grad = True)  # define the value of x first\n",
    "y = x**2\n",
    "y.backward()    # y' = 2*x \n",
    "x.grad          # y' = 2*2 = 4 "
   ]
  },
  {
   "cell_type": "code",
   "execution_count": 36,
   "id": "50b15279",
   "metadata": {},
   "outputs": [
    {
     "data": {
      "text/plain": [
       "tensor(8.)"
      ]
     },
     "execution_count": 36,
     "metadata": {},
     "output_type": "execute_result"
    }
   ],
   "source": [
    "x = torch.tensor(3.0, requires_grad = True)\n",
    "z = x**2 + 2*x + 1\n",
    "z.backward()        # z' = 2*z + 2\n",
    "x.grad              # z' = 2*3 + 2 = 8"
   ]
  },
  {
   "cell_type": "markdown",
   "id": "a358ce0d",
   "metadata": {},
   "source": [
    "# Partial derivatives "
   ]
  },
  {
   "cell_type": "code",
   "execution_count": 37,
   "id": "84c35e30",
   "metadata": {},
   "outputs": [
    {
     "name": "stdout",
     "output_type": "stream",
     "text": [
      "tensor(4.)\n",
      "tensor(1.)\n"
     ]
    }
   ],
   "source": [
    "# f(u, v) = uv + u**2\n",
    "\n",
    "# f(u, v) w.r.t u = v + 2*u\n",
    "# f(u, v) w.r.t v = u \n",
    "\n",
    "\n",
    "\n",
    "u = torch.tensor(1.0 , requires_grad = True)\n",
    "v = torch.tensor(2.0,  requires_grad = True)\n",
    "\n",
    "f = u*v + u**2   # define the function\n",
    "f.backward()     # f' =  v + 2*u, f' = v\n",
    "print(u.grad)\n",
    "print(v.grad)"
   ]
  },
  {
   "cell_type": "markdown",
   "id": "3a1230ed",
   "metadata": {},
   "source": [
    "# Dataset in PyTorch"
   ]
  },
  {
   "cell_type": "code",
   "execution_count": 38,
   "id": "e5c7f4ac",
   "metadata": {},
   "outputs": [],
   "source": [
    "import torch \n",
    "import torchvision.datasets as dataset \n",
    "from torchvision.transforms import ToTensor\n",
    "\n",
    "train_data = dataset.MNIST(root = './data', train = True, download = True, transform = ToTensor())\n"
   ]
  },
  {
   "cell_type": "code",
   "execution_count": null,
   "id": "a540ad90",
   "metadata": {},
   "outputs": [],
   "source": []
  }
 ],
 "metadata": {
  "kernelspec": {
   "display_name": "Python 3 (ipykernel)",
   "language": "python",
   "name": "python3"
  },
  "language_info": {
   "codemirror_mode": {
    "name": "ipython",
    "version": 3
   },
   "file_extension": ".py",
   "mimetype": "text/x-python",
   "name": "python",
   "nbconvert_exporter": "python",
   "pygments_lexer": "ipython3",
   "version": "3.10.9"
  },
  "toc": {
   "base_numbering": 1,
   "nav_menu": {},
   "number_sections": true,
   "sideBar": true,
   "skip_h1_title": false,
   "title_cell": "Table of Contents",
   "title_sidebar": "Contents",
   "toc_cell": false,
   "toc_position": {},
   "toc_section_display": true,
   "toc_window_display": false
  }
 },
 "nbformat": 4,
 "nbformat_minor": 5
}
