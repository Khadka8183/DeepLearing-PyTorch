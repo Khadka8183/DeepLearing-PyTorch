{
 "cells": [
  {
   "cell_type": "code",
   "execution_count": 1,
   "id": "a604059f",
   "metadata": {},
   "outputs": [],
   "source": [
    "import torch \n",
    "import torch.nn as nn "
   ]
  },
  {
   "cell_type": "code",
   "execution_count": 2,
   "id": "09f80891",
   "metadata": {},
   "outputs": [],
   "source": [
    "def Double_Conv(input_channels, output_channels):\n",
    "    \n",
    "    conv = nn.Sequential(\n",
    "           nn.Conv2d(in_channels=input_channels, out_channels=output_channels, kernel_size=3),\n",
    "           nn.ReLU(inplace=True),\n",
    "           nn.Conv2d(in_channels=output_channels, out_channels=output_channels, kernel_size=3),\n",
    "           nn.ReLU(inplace=True))\n",
    "    return conv\n",
    "    "
   ]
  },
  {
   "cell_type": "code",
   "execution_count": 3,
   "id": "4d850cb0",
   "metadata": {},
   "outputs": [],
   "source": [
    "def CropImage(orginal_tensor, target_tensor):\n",
    "    \n",
    "    \"\"\"Assuming the the orginal dimension \n",
    "       of the image is alwyas bigger than\n",
    "       that of target dimension\n",
    "       \n",
    "       Orginal_tensor will come from encoder \n",
    "       part, which has to be cropped\n",
    "       \n",
    "       \"\"\"\n",
    "    \n",
    "    orginal_dim = orginal_tensor.shape[2]  \n",
    "    target_dim  = target_tensor.shape[2]\n",
    "    \n",
    "    delta = (orginal_dim - target_dim) // 2\n",
    "    \n",
    "    return orginal_tensor[:, :, delta:orginal_dim-delta, delta:orginal_dim-delta]   "
   ]
  },
  {
   "cell_type": "code",
   "execution_count": 10,
   "id": "305b8a04",
   "metadata": {},
   "outputs": [],
   "source": [
    "class UNet(nn.Module):\n",
    "    def __init__(self):\n",
    "        super(UNet, self).__init__()\n",
    "        \n",
    "        \n",
    "       \n",
    "        self.MaxPool = nn.MaxPool2d(kernel_size=2) \n",
    "        self.conv1 = Double_Conv(input_channels=1,    output_channels=64)\n",
    "        self.conv2 = Double_Conv(input_channels=64,   output_channels=128)\n",
    "        self.conv3 = Double_Conv(input_channels=128,  output_channels=256)\n",
    "        self.conv4 = Double_Conv(input_channels=256,  output_channels=512)\n",
    "        self.conv5 = Double_Conv(input_channels=512,  output_channels=1024)\n",
    "       \n",
    "        \n",
    "        self.ConvTransp1 = nn.ConvTranspose2d(1024,512, 2,2) \n",
    "        self.ConvTransp2 = nn.ConvTranspose2d(512, 256, 2,2)\n",
    "        self.ConvTransp3 = nn.ConvTranspose2d(256, 128, 2,2)\n",
    "        self.ConvTransp4 = nn.ConvTranspose2d(128, 64,  2,2)\n",
    "        \n",
    "        \n",
    "        self.conv6  = Double_Conv(input_channels=1024,  output_channels=512)\n",
    "        self.conv7  = Double_Conv(input_channels=512,   output_channels=256)\n",
    "        self.conv8  = Double_Conv(input_channels=256,   output_channels=128)\n",
    "        self.conv9  = Double_Conv(input_channels=128,   output_channels=64)\n",
    "        self.conv10 = nn.Conv2d(in_channels=64, out_channels=2, kernel_size=1)\n",
    "        \n",
    "        \n",
    "    def forward(self, x):\n",
    "        #----------------------------------Encoder-----------------------------------------#\n",
    "        x1 = self.conv1(x)\n",
    "        x2 = self.MaxPool(x1)\n",
    "        \n",
    "        x3 = self.conv2(x2)\n",
    "        x4 = self.MaxPool(x3)\n",
    "        \n",
    "        x5 = self.conv3(x4)\n",
    "        x6 = self.MaxPool(x5)\n",
    "        \n",
    "        x7 = self.conv4(x6)\n",
    "        x8 = self.MaxPool(x7)\n",
    "        \n",
    "        x9 = self.conv5(x8)\n",
    "        \n",
    "        \n",
    "        #----------------------------------Decoder-----------------------------------------#\n",
    "        \n",
    "        x10 = self.ConvTransp1(x9)\n",
    "        y1  = CropImage(x7, x10)\n",
    "        x11 = torch.concat((x10, y1), dim=1)\n",
    "        \n",
    "        x12 = self.conv6(x11)\n",
    "        x13 = self.ConvTransp2(x12)\n",
    "        y2  = CropImage(x5, x13)\n",
    "        x14 = torch.concat((x13, y2), dim=1)\n",
    "        \n",
    "        x15 = self.conv7(x14)\n",
    "        x16 = self.ConvTransp3(x15)\n",
    "        y3  = CropImage(x3, x16)\n",
    "        x17 = torch.concat((x16, y3), dim=1)\n",
    "        \n",
    "        x18 = self.conv8(x17)\n",
    "        x19 = self.ConvTransp4(x18)\n",
    "        y4  = CropImage(x1, x19)\n",
    "        x20 = torch.concat((x19, y4), dim=1)\n",
    "        \n",
    "        x21 = self.conv9(x20)\n",
    "        x22 = self.conv10(x21)\n",
    "                \n",
    "        return print(x.shape, x22.shape)"
   ]
  },
  {
   "cell_type": "code",
   "execution_count": 11,
   "id": "5083570b",
   "metadata": {},
   "outputs": [
    {
     "name": "stdout",
     "output_type": "stream",
     "text": [
      "torch.Size([1, 1, 572, 572]) torch.Size([1, 2, 388, 388])\n"
     ]
    }
   ],
   "source": [
    "x = torch.rand([1,1,572,572])\n",
    "model_test = UNet()\n",
    "model_test(x)"
   ]
  },
  {
   "cell_type": "code",
   "execution_count": null,
   "id": "004a27ae",
   "metadata": {},
   "outputs": [],
   "source": []
  }
 ],
 "metadata": {
  "kernelspec": {
   "display_name": "Python 3 (ipykernel)",
   "language": "python",
   "name": "python3"
  },
  "language_info": {
   "codemirror_mode": {
    "name": "ipython",
    "version": 3
   },
   "file_extension": ".py",
   "mimetype": "text/x-python",
   "name": "python",
   "nbconvert_exporter": "python",
   "pygments_lexer": "ipython3",
   "version": "3.10.9"
  },
  "toc": {
   "base_numbering": 1,
   "nav_menu": {},
   "number_sections": true,
   "sideBar": true,
   "skip_h1_title": false,
   "title_cell": "Table of Contents",
   "title_sidebar": "Contents",
   "toc_cell": false,
   "toc_position": {},
   "toc_section_display": true,
   "toc_window_display": false
  }
 },
 "nbformat": 4,
 "nbformat_minor": 5
}
