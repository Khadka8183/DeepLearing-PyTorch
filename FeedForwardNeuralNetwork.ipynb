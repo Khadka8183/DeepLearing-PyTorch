{
 "cells": [
  {
   "cell_type": "code",
   "execution_count": 1,
   "id": "fdc0957d",
   "metadata": {},
   "outputs": [],
   "source": [
    "import torch \n",
    "import numpy as np \n",
    "import torch.nn as nn \n",
    "import matplotlib.pyplot as plt\n",
    "from tqdm import tqdm"
   ]
  },
  {
   "cell_type": "code",
   "execution_count": 2,
   "id": "d74c416f",
   "metadata": {},
   "outputs": [],
   "source": [
    "# import Hand Written MNIST dataset\n",
    "from torchvision import datasets, transforms\n",
    "\n",
    "train = datasets.MNIST(\"data/\", train = True,  download = True, transform=transforms.Compose([transforms.ToTensor()]))\n",
    "test  = datasets.MNIST(\"data/\", train = False, download = True, transform=transforms.Compose([transforms.ToTensor()]))\n"
   ]
  },
  {
   "cell_type": "code",
   "execution_count": 3,
   "id": "07590edc",
   "metadata": {},
   "outputs": [],
   "source": [
    "trainset = torch.utils.data.DataLoader(train, batch_size = 10, shuffle = True)\n",
    "testset  = torch.utils.data.DataLoader(test,  batch_size = 10, shuffle = True)"
   ]
  },
  {
   "cell_type": "code",
   "execution_count": 4,
   "id": "3384a3aa",
   "metadata": {},
   "outputs": [
    {
     "data": {
      "text/plain": [
       "torch.utils.data.dataloader.DataLoader"
      ]
     },
     "execution_count": 4,
     "metadata": {},
     "output_type": "execute_result"
    }
   ],
   "source": [
    "type(trainset)"
   ]
  },
  {
   "cell_type": "code",
   "execution_count": 5,
   "id": "667dbb3e",
   "metadata": {},
   "outputs": [
    {
     "name": "stdout",
     "output_type": "stream",
     "text": [
      "[tensor([[[[0., 0., 0.,  ..., 0., 0., 0.],\n",
      "          [0., 0., 0.,  ..., 0., 0., 0.],\n",
      "          [0., 0., 0.,  ..., 0., 0., 0.],\n",
      "          ...,\n",
      "          [0., 0., 0.,  ..., 0., 0., 0.],\n",
      "          [0., 0., 0.,  ..., 0., 0., 0.],\n",
      "          [0., 0., 0.,  ..., 0., 0., 0.]]],\n",
      "\n",
      "\n",
      "        [[[0., 0., 0.,  ..., 0., 0., 0.],\n",
      "          [0., 0., 0.,  ..., 0., 0., 0.],\n",
      "          [0., 0., 0.,  ..., 0., 0., 0.],\n",
      "          ...,\n",
      "          [0., 0., 0.,  ..., 0., 0., 0.],\n",
      "          [0., 0., 0.,  ..., 0., 0., 0.],\n",
      "          [0., 0., 0.,  ..., 0., 0., 0.]]],\n",
      "\n",
      "\n",
      "        [[[0., 0., 0.,  ..., 0., 0., 0.],\n",
      "          [0., 0., 0.,  ..., 0., 0., 0.],\n",
      "          [0., 0., 0.,  ..., 0., 0., 0.],\n",
      "          ...,\n",
      "          [0., 0., 0.,  ..., 0., 0., 0.],\n",
      "          [0., 0., 0.,  ..., 0., 0., 0.],\n",
      "          [0., 0., 0.,  ..., 0., 0., 0.]]],\n",
      "\n",
      "\n",
      "        ...,\n",
      "\n",
      "\n",
      "        [[[0., 0., 0.,  ..., 0., 0., 0.],\n",
      "          [0., 0., 0.,  ..., 0., 0., 0.],\n",
      "          [0., 0., 0.,  ..., 0., 0., 0.],\n",
      "          ...,\n",
      "          [0., 0., 0.,  ..., 0., 0., 0.],\n",
      "          [0., 0., 0.,  ..., 0., 0., 0.],\n",
      "          [0., 0., 0.,  ..., 0., 0., 0.]]],\n",
      "\n",
      "\n",
      "        [[[0., 0., 0.,  ..., 0., 0., 0.],\n",
      "          [0., 0., 0.,  ..., 0., 0., 0.],\n",
      "          [0., 0., 0.,  ..., 0., 0., 0.],\n",
      "          ...,\n",
      "          [0., 0., 0.,  ..., 0., 0., 0.],\n",
      "          [0., 0., 0.,  ..., 0., 0., 0.],\n",
      "          [0., 0., 0.,  ..., 0., 0., 0.]]],\n",
      "\n",
      "\n",
      "        [[[0., 0., 0.,  ..., 0., 0., 0.],\n",
      "          [0., 0., 0.,  ..., 0., 0., 0.],\n",
      "          [0., 0., 0.,  ..., 0., 0., 0.],\n",
      "          ...,\n",
      "          [0., 0., 0.,  ..., 0., 0., 0.],\n",
      "          [0., 0., 0.,  ..., 0., 0., 0.],\n",
      "          [0., 0., 0.,  ..., 0., 0., 0.]]]]), tensor([3, 9, 3, 4, 7, 9, 6, 2, 3, 0])]\n"
     ]
    }
   ],
   "source": [
    "# This corresponds to first batches of images and labels\n",
    "for data in trainset:\n",
    "    print(data)\n",
    "    break "
   ]
  },
  {
   "cell_type": "code",
   "execution_count": 6,
   "id": "1ef689e7",
   "metadata": {},
   "outputs": [
    {
     "data": {
      "image/png": "[encoded data removed]",
      "text/plain": [
       "<Figure size 1000x500 with 10 Axes>"
      ]
     },
     "metadata": {},
     "output_type": "display_data"
    }
   ],
   "source": [
    "plt.figure(figsize = (10,5))\n",
    "j = 0\n",
    "for i in range(10):\n",
    "    j = j+1 \n",
    "    image, label = data[0][i], data[1][i]\n",
    "    image = image.permute(1,2,0)\n",
    "    plt.subplot(2,5, j)\n",
    "    plt.imshow(image)\n",
    "    plt.xlabel(label.item())\n",
    "plt.show()\n"
   ]
  },
  {
   "cell_type": "code",
   "execution_count": 7,
   "id": "5473836e",
   "metadata": {},
   "outputs": [],
   "source": [
    "import torch.nn.functional as F \n",
    "\n",
    "class FeedForwardNeuralNetwork(nn.Module):\n",
    "    def __init__(self):\n",
    "        super(FeedForwardNeuralNetwork, self).__init__()\n",
    "        \n",
    "        #Dense hidden layer\n",
    "        self.layer1 = nn.Linear(in_features=28*28, out_features=64)\n",
    "        self.layer2 = nn.Linear(64, 32)\n",
    "        self.layer3 = nn.Linear(32, 16)\n",
    "        self.layer4 = nn.Linear(16, 10)\n",
    "        \n",
    "    \n",
    "    def forward(self, x):\n",
    "        \n",
    "        x = F.relu(self.layer1(x))\n",
    "        x = F.relu(self.layer2(x))\n",
    "        x = F.relu(self.layer3(x))\n",
    "        x = self.layer4(x)\n",
    "        \n",
    "        return F.log_softmax(x, dim =1)       "
   ]
  },
  {
   "cell_type": "code",
   "execution_count": 8,
   "id": "b180629e",
   "metadata": {},
   "outputs": [
    {
     "name": "stdout",
     "output_type": "stream",
     "text": [
      "FeedForwardNeuralNetwork(\n",
      "  (layer1): Linear(in_features=784, out_features=64, bias=True)\n",
      "  (layer2): Linear(in_features=64, out_features=32, bias=True)\n",
      "  (layer3): Linear(in_features=32, out_features=16, bias=True)\n",
      "  (layer4): Linear(in_features=16, out_features=10, bias=True)\n",
      ")\n"
     ]
    }
   ],
   "source": [
    "test_model = FeedForwardNeuralNetwork()\n",
    "print(test_model)"
   ]
  },
  {
   "cell_type": "code",
   "execution_count": 9,
   "id": "589e3b5a",
   "metadata": {},
   "outputs": [
    {
     "data": {
      "text/plain": [
       "tensor([[-2.1387, -2.0976, -2.2747, -2.3536, -2.3782, -2.5228, -2.2280, -2.2119,\n",
       "         -2.3977, -2.5199]], grad_fn=<LogSoftmaxBackward0>)"
      ]
     },
     "execution_count": 9,
     "metadata": {},
     "output_type": "execute_result"
    }
   ],
   "source": [
    "# Testing the model\n",
    "\n",
    "x = torch.rand((28*28))\n",
    "x = x.view([-1,28*28])\n",
    "output = test_model(x)\n",
    "output"
   ]
  },
  {
   "cell_type": "code",
   "execution_count": 10,
   "id": "ddab8c0d",
   "metadata": {},
   "outputs": [],
   "source": [
    "#Initzilize the model\n",
    "\n",
    "model = FeedForwardNeuralNetwork()"
   ]
  },
  {
   "cell_type": "code",
   "execution_count": 11,
   "id": "4e381402",
   "metadata": {},
   "outputs": [],
   "source": [
    "def train(lr = 0.01, epochs = 5):\n",
    "    \n",
    "    optimizer = torch.optim.Adam(model.parameters(), lr = lr)\n",
    "    \n",
    "    for epoch in range(epochs):\n",
    "        running_loss = 0 \n",
    "        for data in tqdm(trainset):\n",
    "            \n",
    "            input_data, label = data\n",
    "            \n",
    "            #flatten the data\n",
    "            input_data = input_data.view(-1, 28*28)\n",
    "    \n",
    "            \n",
    "            #zero the gradient\n",
    "            model.zero_grad()\n",
    "            \n",
    "            # initilize the model\n",
    "            output = model(input_data)\n",
    "            \n",
    "            # loss\n",
    "            loss = F.nll_loss(output, label)\n",
    "            \n",
    "            # backward propagation\n",
    "            loss.backward()\n",
    "            \n",
    "            \n",
    "            #optimization\n",
    "            optimizer.step()\n",
    "            \n",
    "            running_loss += loss.item()\n",
    "          \n",
    "        print(f'Epoch: {epoch+1}, loss: {running_loss/len(trainset)}')"
   ]
  },
  {
   "cell_type": "code",
   "execution_count": 12,
   "id": "5dec806b",
   "metadata": {},
   "outputs": [
    {
     "name": "stderr",
     "output_type": "stream",
     "text": [
      "100%|█████████████████████████████████████████████████████████████████████████████| 6000/6000 [00:16<00:00, 354.13it/s]\n"
     ]
    },
    {
     "name": "stdout",
     "output_type": "stream",
     "text": [
      "Epoch: 1, loss: 0.3622302220639491\n"
     ]
    },
    {
     "name": "stderr",
     "output_type": "stream",
     "text": [
      "100%|█████████████████████████████████████████████████████████████████████████████| 6000/6000 [00:22<00:00, 272.11it/s]\n"
     ]
    },
    {
     "name": "stdout",
     "output_type": "stream",
     "text": [
      "Epoch: 2, loss: 0.26193343022888804\n"
     ]
    },
    {
     "name": "stderr",
     "output_type": "stream",
     "text": [
      "100%|█████████████████████████████████████████████████████████████████████████████| 6000/6000 [00:22<00:00, 272.72it/s]"
     ]
    },
    {
     "name": "stdout",
     "output_type": "stream",
     "text": [
      "Epoch: 3, loss: 0.23129383147590685\n"
     ]
    },
    {
     "name": "stderr",
     "output_type": "stream",
     "text": [
      "\n"
     ]
    }
   ],
   "source": [
    "train(lr=0.01,epochs = 3)"
   ]
  },
  {
   "cell_type": "code",
   "execution_count": 13,
   "id": "428a77d9",
   "metadata": {},
   "outputs": [
    {
     "name": "stdout",
     "output_type": "stream",
     "text": [
      "Accuracy:0.9496\n"
     ]
    }
   ],
   "source": [
    "correct = 0\n",
    "total = 0\n",
    "\n",
    "with torch.no_grad():\n",
    "    for data in testset:\n",
    "        input_data, label = data \n",
    "        output= model(input_data.view(-1, 28*28))\n",
    "\n",
    "        for idx, i in enumerate(output):\n",
    "            \n",
    "            if torch.argmax(i) == label[idx]:\n",
    "                correct += 1\n",
    "            total += 1\n",
    "            \n",
    "            \n",
    "print(f'Accuracy:{correct/total}')"
   ]
  },
  {
   "cell_type": "code",
   "execution_count": null,
   "id": "3a0b4849",
   "metadata": {},
   "outputs": [],
   "source": []
  }
 ],
 "metadata": {
  "kernelspec": {
   "display_name": "Python 3 (ipykernel)",
   "language": "python",
   "name": "python3"
  },
  "language_info": {
   "codemirror_mode": {
    "name": "ipython",
    "version": 3
   },
   "file_extension": ".py",
   "mimetype": "text/x-python",
   "name": "python",
   "nbconvert_exporter": "python",
   "pygments_lexer": "ipython3",
   "version": "3.10.9"
  },
  "toc": {
   "base_numbering": 1,
   "nav_menu": {},
   "number_sections": true,
   "sideBar": true,
   "skip_h1_title": false,
   "title_cell": "Table of Contents",
   "title_sidebar": "Contents",
   "toc_cell": false,
   "toc_position": {},
   "toc_section_display": true,
   "toc_window_display": false
  }
 },
 "nbformat": 4,
 "nbformat_minor": 5
}
